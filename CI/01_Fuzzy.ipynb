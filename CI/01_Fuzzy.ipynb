{
 "cells": [
  {
   "cell_type": "code",
   "execution_count": 41,
   "metadata": {},
   "outputs": [],
   "source": [
    "import numpy as np"
   ]
  },
  {
   "cell_type": "code",
   "execution_count": 42,
   "metadata": {},
   "outputs": [],
   "source": [
    "A\t=\tnp.array([0.2, 0.4, 0.7, 0.8])\n",
    "B\t=\tnp.array([0.1, 0.8, 0.2, 0.3])"
   ]
  },
  {
   "cell_type": "code",
   "execution_count": 43,
   "metadata": {},
   "outputs": [],
   "source": [
    "def\tunion(A,B)\t:\t\n",
    "    return\tnp.maximum(A,B)"
   ]
  },
  {
   "cell_type": "code",
   "execution_count": 44,
   "metadata": {},
   "outputs": [],
   "source": [
    "def\tintersection(A,B)\t:\t\n",
    "    return\tnp.minimum(A,B)"
   ]
  },
  {
   "cell_type": "code",
   "execution_count": 45,
   "metadata": {},
   "outputs": [],
   "source": [
    "def\tcomplement(A)\t:\t\n",
    "    return\t1-A"
   ]
  },
  {
   "cell_type": "code",
   "execution_count": 46,
   "metadata": {},
   "outputs": [],
   "source": [
    "def\tdifference(A,B)\t:\n",
    "    return\tnp.maximum(A-B, 0)"
   ]
  },
  {
   "cell_type": "code",
   "execution_count": 47,
   "metadata": {},
   "outputs": [],
   "source": [
    "def\tcartesian_product(A,B):\n",
    "    return\tnp.outer(A,\tB)"
   ]
  },
  {
   "cell_type": "code",
   "execution_count": 48,
   "metadata": {},
   "outputs": [],
   "source": [
    "def\tmax_min_composition(R1,\tR2):\n",
    "    return\tnp.maximum(np.minimum(R1,R2), 0)"
   ]
  },
  {
   "cell_type": "code",
   "execution_count": 49,
   "metadata": {},
   "outputs": [],
   "source": [
    "R1\t=\tcartesian_product(A,B)\n",
    "R2\t=\tcartesian_product(B,A)\n",
    "result\t=\tmax_min_composition(R1,R2)"
   ]
  },
  {
   "cell_type": "code",
   "execution_count": 50,
   "metadata": {},
   "outputs": [
    {
     "name": "stdout",
     "output_type": "stream",
     "text": [
      "++++++++++++++++++++++++++++++++++++++++++++++++++++++\n",
      "                   Fuzzy operations                   \n",
      "++++++++++++++++++++++++++++++++++++++++++++++++++++++\n",
      "| Union\tof A and B          :\t[0.2 0.8 0.7 0.8]|\n",
      "| Intersection of A and B\t:\t[0.1 0.4 0.2 0.3]|\n",
      "| Complement of A and B\t\t:\t[0.8 0.6 0.3 0.2]|\n",
      "| Difference of A and B\t    :\t[0.1 0.  0.5 0.5]\n",
      "cartesian_product of A and B\t:\t\n",
      "[[0.02 0.16 0.04 0.06]\n",
      " [0.04 0.32 0.08 0.12]\n",
      " [0.07 0.56 0.14 0.21]\n",
      " [0.08 0.64 0.16 0.24]]\n",
      "cartesian_product of B and A\t:\t\n",
      "[[0.02 0.04 0.07 0.08]\n",
      " [0.16 0.32 0.56 0.64]\n",
      " [0.04 0.08 0.14 0.16]\n",
      " [0.06 0.12 0.21 0.24]]\n",
      "max_min_composition of A and B\t:\t\n",
      "[[0.02 0.04 0.04 0.06]\n",
      " [0.04 0.32 0.08 0.12]\n",
      " [0.04 0.08 0.14 0.16]\n",
      " [0.06 0.12 0.16 0.24]]\n",
      "++++++++++++++++++++++++++++++++++++++++++++++++++++++\n"
     ]
    }
   ],
   "source": [
    "print(\"+\" * 54)\n",
    "print(\"Fuzzy operations\".center(54))\n",
    "print(\"+\" * 54)\n",
    "print(f\"| Union\tof A and B          :\t{union(A,B)}|\")\n",
    "print(f\"| Intersection of A and B\t:\t{intersection(A,B)}|\")\n",
    "print(f\"| Complement of A and B\t\t:\t{complement(A)}|\")\n",
    "print(f\"| Difference of A and B\t    :\t{difference(A,B)}\")\t\n",
    "print(f\"cartesian_product of A and B\t:\t\\n{R1}\")\n",
    "print(f\"cartesian_product of B and A\t:\t\\n{R2}\")\n",
    "print(f\"max_min_composition of A and B\t:\t\\n{result}\")\n",
    "print(\"+\" * 54)\n",
    " \n",
    " "
   ]
  },
  {
   "cell_type": "code",
   "execution_count": null,
   "metadata": {},
   "outputs": [],
   "source": []
  }
 ],
 "metadata": {
  "kernelspec": {
   "display_name": "Python 3",
   "language": "python",
   "name": "python3"
  },
  "language_info": {
   "codemirror_mode": {
    "name": "ipython",
    "version": 3
   },
   "file_extension": ".py",
   "mimetype": "text/x-python",
   "name": "python",
   "nbconvert_exporter": "python",
   "pygments_lexer": "ipython3",
   "version": "3.13.2"
  }
 },
 "nbformat": 4,
 "nbformat_minor": 2
}
