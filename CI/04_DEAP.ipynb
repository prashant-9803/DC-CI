{
 "cells": [
  {
   "cell_type": "code",
   "execution_count": 51,
   "metadata": {},
   "outputs": [],
   "source": [
    "import random \n",
    "from deap import base, creator, tools, algorithms "
   ]
  },
  {
   "cell_type": "code",
   "execution_count": 52,
   "metadata": {},
   "outputs": [],
   "source": [
    "def eval_func(individual): \n",
    "# Example evaluation function (minimize a quadratic function) \n",
    "    return sum(x ** 2 for x in individual), "
   ]
  },
  {
   "cell_type": "code",
   "execution_count": 53,
   "metadata": {},
   "outputs": [],
   "source": [
    "creator.create(\"FitnessMin\", base.Fitness, weights=(-1.0,)) \n",
    "creator.create(\"Individual\", list, fitness=creator.FitnessMin)"
   ]
  },
  {
   "cell_type": "code",
   "execution_count": 54,
   "metadata": {},
   "outputs": [],
   "source": [
    "toolbox = base.Toolbox()"
   ]
  },
  {
   "cell_type": "code",
   "execution_count": 55,
   "metadata": {},
   "outputs": [],
   "source": [
    "toolbox.register(\"attr_float\", random.uniform, -5.0, 5.0)  # Example: Float values between -5 and 5 \n",
    "toolbox.register(\"individual\", tools.initRepeat, creator.Individual, toolbox.attr_float, n=3)  \n",
    "# Example: 3-dimensional individual \n",
    "toolbox.register(\"population\", tools.initRepeat, list, toolbox.individual) \n",
    "toolbox.register(\"evaluate\", eval_func) \n",
    "toolbox.register(\"mate\", tools.cxBlend, alpha=0.5) \n",
    "toolbox.register(\"mutate\", tools.mutGaussian, mu=0, sigma=1, indpb=0.2) \n",
    "toolbox.register(\"select\", tools.selTournament, tournsize=3)"
   ]
  },
  {
   "cell_type": "code",
   "execution_count": 56,
   "metadata": {},
   "outputs": [],
   "source": [
    "population = toolbox.population(n=50) \n",
    "generations = 20"
   ]
  },
  {
   "cell_type": "code",
   "execution_count": 57,
   "metadata": {},
   "outputs": [],
   "source": [
    "for gen in range(generations): \n",
    "    offspring = algorithms.varAnd(population, toolbox, cxpb=0.5, mutpb=0.1) \n",
    "    fits = toolbox.map(toolbox.evaluate, offspring) \n",
    "    for fit, ind in zip(fits, offspring): \n",
    "        ind.fitness.values = fit\n",
    "    population = toolbox.select(offspring, k=len(population)) \n"
   ]
  },
  {
   "cell_type": "code",
   "execution_count": 58,
   "metadata": {},
   "outputs": [
    {
     "name": "stdout",
     "output_type": "stream",
     "text": [
      "Best individual: [0.0023195004404194365, -0.01310343659277961, -0.004376070539009539]\n",
      "Best fitness: 0.0001962301261964889\n"
     ]
    }
   ],
   "source": [
    "best_ind = tools.selBest(population, k=1)[0] \n",
    "best_fitness = best_ind.fitness.values[0] \n",
    "print(\"Best individual:\", best_ind) \n",
    "print(\"Best fitness:\", best_fitness) "
   ]
  },
  {
   "cell_type": "code",
   "execution_count": 62,
   "metadata": {},
   "outputs": [
    {
     "name": "stdout",
     "output_type": "stream",
     "text": [
      "\n",
      "#mapper.py\n",
      "#!/usr/bin/env python3\n",
      "import sys\n",
      "for line in sys.stdin:\n",
      "    line = line.strip()\n",
      "    if not line:\n",
      "        continue\n",
      "\n",
      "    parts = line.split()\n",
      "    if len(parts) == 3:\n",
      "        date_str, min_temp, max_temp = parts\n",
      "        if \"-\" in date_str:\n",
      "            year = date_str.split(\"-\")[0]\n",
      "            print(f\"{year} {min_temp} {max_temp}\")\n",
      "\n",
      "#reducer.py\n",
      "\n",
      "#!/usr/bin/env python3\n",
      "import sys\n",
      "from collections import defaultdict\n",
      "\n",
      "temps_by_year = defaultdict(list)\n",
      "\n",
      "for line in sys.stdin:\n",
      "    line = line.strip()\n",
      "    if not line:\n",
      "        continue\n",
      "    parts = line.split()\n",
      "    if len(parts) != 3:\n",
      "        continue\n",
      "    year, min_temp, max_temp = parts\n",
      "    try:\n",
      "        temps_by_year[year].append((int(min_temp), int(max_temp)))\n",
      "    except:\n",
      "        continue\n",
      "\n",
      "for year in sorted(temps_by_year.keys()):\n",
      "    mins, maxs = zip(*temps_by_year[year])\n",
      "    print(f\"{year}\t{min(mins)}\t{max(maxs)}\")\n",
      "\n",
      "#hadoop commands\n",
      "\n",
      "su hduser\n",
      "cd\n",
      "start-dfs.sh\n",
      "start-yarn.sh\n",
      "jps\n",
      "#Delete any previous input or output files if present using: hdfs dfs -rm -r /input /output\n",
      "hdfs dfs -mkdir -p /input\n",
      "hdfs dfs -ls /\n",
      "nano weather_data.txt\n",
      "#weather_data.txt file will open in nano text editor\n",
      "#Copy the text from the provided weather data text file and paste it here\n",
      "#Press Ctrl + X\n",
      "#Press Y\n",
      "#Press Enter key\n",
      "hdfs dfs -put weather_data.txt /input/\n",
      "hdfs dfs -ls /input/\n",
      "nano mapper.py\n",
      "#This will open the mapper.py file in nano editor; write the Mapper python code here\n",
      "#Here’s the code for mapper.py\n",
      "nano reducer.py\n",
      "chmod +x mapper.py\n",
      "chmod +x reducer.py\n",
      "whereis hadoop\n",
      "hadoop jar /usr/local/hadoop/share/hadoop/tools/lib/hadoop-streaming-3.3.4.jar -input /input/weather_data.txt -output /output/weather_output -mapper mapper.py -reducer reducer.py -file mapper.py -file reducer.py\n",
      "hdfs dfs -ls /output/weather_output/\n",
      "hdfs dfs -cat /output/weather_output/part-00000\n",
      "stop-dfs.sh\n",
      "stop-yarn.sh\n",
      "\n"
     ]
    }
   ],
   "source": [
    "from panday import dc5"
   ]
  },
  {
   "cell_type": "code",
   "execution_count": null,
   "metadata": {},
   "outputs": [],
   "source": []
  }
 ],
 "metadata": {
  "kernelspec": {
   "display_name": "Python 3",
   "language": "python",
   "name": "python3"
  },
  "language_info": {
   "codemirror_mode": {
    "name": "ipython",
    "version": 3
   },
   "file_extension": ".py",
   "mimetype": "text/x-python",
   "name": "python",
   "nbconvert_exporter": "python",
   "pygments_lexer": "ipython3",
   "version": "3.13.2"
  }
 },
 "nbformat": 4,
 "nbformat_minor": 2
}
