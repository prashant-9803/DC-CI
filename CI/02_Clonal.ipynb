{
 "cells": [
  {
   "cell_type": "code",
   "execution_count": 15,
   "metadata": {},
   "outputs": [],
   "source": [
    "import numpy as np"
   ]
  },
  {
   "cell_type": "code",
   "execution_count": 16,
   "metadata": {},
   "outputs": [],
   "source": [
    "def objective_function(x) :\n",
    "    return x**2"
   ]
  },
  {
   "cell_type": "code",
   "execution_count": 17,
   "metadata": {},
   "outputs": [],
   "source": [
    "def initialize_population(size,lower_bound,upper_bound)\t:\n",
    "    return\tnp.random.uniform(lower_bound,upper_bound,size)"
   ]
  },
  {
   "cell_type": "code",
   "execution_count": 18,
   "metadata": {},
   "outputs": [],
   "source": [
    "def clone(antibodies, num_of_clones) :\n",
    "    return np.repeat(antibodies,num_of_clones)"
   ]
  },
  {
   "cell_type": "code",
   "execution_count": 19,
   "metadata": {},
   "outputs": [],
   "source": [
    "def hypermutate(clones, mutation_rate)\t:\n",
    "    noise = np.random.normal(0,mutation_rate,clones.shape)\n",
    "    return clones + noise"
   ]
  },
  {
   "cell_type": "code",
   "execution_count": 20,
   "metadata": {},
   "outputs": [],
   "source": [
    "def\tselect_best(population,\tnum_of_best) :\n",
    "    fitness = np.array([objective_function(x) for x in population])\n",
    "    sorted_indices = np.argsort(fitness)\n",
    "    return\tpopulation[sorted_indices[:num_of_best]]"
   ]
  },
  {
   "cell_type": "code",
   "execution_count": 21,
   "metadata": {},
   "outputs": [],
   "source": [
    "def\tclonal_selection_algorithm(pop_size=10,\tgenerations=20, upper_bound = 10, lower_bound = -10, clone_factor = 5, mutation_rate = 0.1) :\n",
    "\n",
    "    population = initialize_population(pop_size,lower_bound,upper_bound)\n",
    "\n",
    "    for\tgen in\trange(generations)\t:\n",
    "        fitness = np.array([objective_function(x) for x\tin population])\n",
    "        \n",
    "        best = select_best(population,pop_size//2)\n",
    "        \n",
    "        clones = clone(best, clone_factor)\t\n",
    "        \n",
    "        mutated_clones = hypermutate(clones, mutation_rate)\n",
    "        \n",
    "        new_best = select_best(mutated_clones, pop_size)\n",
    "\n",
    "        population = new_best\n",
    "\n",
    "        best_solution = population[np.argmin([objective_function(x) for x in population])]\n",
    "        \n",
    "        print(f\"Generation {gen+1}: Best Solution = {best_solution:.5f}, Fitness = {objective_function(best_solution):.5f}\")  \n",
    "    \n",
    "    return best_solution"
   ]
  },
  {
   "cell_type": "code",
   "execution_count": null,
   "metadata": {},
   "outputs": [
    {
     "name": "stdout",
     "output_type": "stream",
     "text": [
      "Generation 1: Best Solution = -1.17866, Fitness = 1.38925\n",
      "Generation 2: Best Solution = -1.00607, Fitness = 1.01218\n",
      "Generation 3: Best Solution = -0.88835, Fitness = 0.78916\n",
      "Generation 4: Best Solution = -0.71976, Fitness = 0.51805\n",
      "Generation 5: Best Solution = -0.56324, Fitness = 0.31723\n",
      "Generation 6: Best Solution = -0.34696, Fitness = 0.12038\n",
      "Generation 7: Best Solution = -0.21663, Fitness = 0.04693\n",
      "Generation 8: Best Solution = -0.02831, Fitness = 0.00080\n",
      "Generation 9: Best Solution = -0.00153, Fitness = 0.00000\n",
      "Generation 10: Best Solution = -0.00703, Fitness = 0.00005\n",
      "Generation 11: Best Solution = -0.00382, Fitness = 0.00001\n",
      "Generation 12: Best Solution = -0.00027, Fitness = 0.00000\n",
      "Generation 13: Best Solution = 0.00077, Fitness = 0.00000\n",
      "Generation 14: Best Solution = -0.00616, Fitness = 0.00004\n",
      "Generation 15: Best Solution = 0.00437, Fitness = 0.00002\n",
      "Generation 16: Best Solution = 0.00079, Fitness = 0.00000\n",
      "Generation 17: Best Solution = 0.00238, Fitness = 0.00001\n",
      "Generation 18: Best Solution = 0.00442, Fitness = 0.00002\n",
      "Generation 19: Best Solution = 0.00046, Fitness = 0.00000\n",
      "Generation 20: Best Solution = 0.00208, Fitness = 0.00000\n",
      "----------------------------------------------------------\n",
      "| Final\tbest solution.center(50) : 0.0020756698554428334 |\n",
      "----------------------------------------------------------\n"
     ]
    }
   ],
   "source": [
    "best = clonal_selection_algorithm()\n",
    "print(\"-\" * 58)\n",
    "print(f\"| Final\tbest solution : {best} |\")\n",
    "print(\"-\" * 58)"
   ]
  },
  {
   "cell_type": "code",
   "execution_count": null,
   "metadata": {},
   "outputs": [],
   "source": []
  }
 ],
 "metadata": {
  "kernelspec": {
   "display_name": "Python 3",
   "language": "python",
   "name": "python3"
  },
  "language_info": {
   "codemirror_mode": {
    "name": "ipython",
    "version": 3
   },
   "file_extension": ".py",
   "mimetype": "text/x-python",
   "name": "python",
   "nbconvert_exporter": "python",
   "pygments_lexer": "ipython3",
   "version": "3.13.2"
  }
 },
 "nbformat": 4,
 "nbformat_minor": 2
}
